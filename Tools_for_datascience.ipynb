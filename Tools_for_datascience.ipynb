{
 "cells": [
  {
   "cell_type": "markdown",
   "metadata": {},
   "source": [
    "Tools For Data Science"
   ]
  },
  {
   "cell_type": "markdown",
   "metadata": {},
   "source": [
    "This notebook provides a basic introduction to data science, highlighting popular languages, libraries, and tools."
   ]
  },
  {
   "cell_type": "markdown",
   "metadata": {},
   "source": [
    "**Popular Data Science Languages:**\n",
    "\n",
    "* **Python:** Versatile, widely used for data analysis, machine learning, and web development.\n",
    "* **R:** Statistical computing and data visualization.\n",
    "* **SQL:** Database querying and data manipulation.\n",
    "* **Julia:** High-performance language for scientific computing."
   ]
  },
  {
   "cell_type": "markdown",
   "metadata": {},
   "source": [
    "**Popular Data Science Libraries:**\n",
    "\n",
    "* **Python:**\n",
    "  * **NumPy:** Numerical operations on arrays.\n",
    "  * **Pandas:** Data manipulation and analysis.\n",
    "  * **Matplotlib:** Data visualization.\n",
    "  * **Scikit-learn:** Machine learning algorithms.\n",
    "  * **TensorFlow/PyTorch:** Deep learning frameworks.\n",
    "* **R:**\n",
    "  * **dplyr:** Data manipulation.\n",
    "  * **ggplot2:** Data visualization.\n",
    "  * **caret:** Machine learning."
   ]
  },
  {
   "cell_type": "markdown",
   "metadata": {},
   "source": [
    "| Tool             | Description                                      |\n",
    "|------------------|--------------------------------------------------|\n",
    "| Jupyter Notebook | Interactive notebook environment                 |\n",
    "| RStudio          | Integrated Development Environment (IDE) for R   |\n",
    "| Anaconda         | Python distribution for data science             |\n",
    "| Google Colab     | Free cloud-based Jupyter Notebook environment    |"
   ]
  },
  {
   "cell_type": "markdown",
   "metadata": {},
   "source": [
    "**Arithmetic Expressions**\n",
    "\n",
    "Let's perform some basic arithmetic operations in Python.\n",
    "Basic arithmetic operations are \"+\",\"-\",\"*\",\"/\""
   ]
  },
  {
   "cell_type": "code",
   "execution_count": 1,
   "metadata": {},
   "outputs": [
    {
     "name": "stdout",
     "output_type": "stream",
     "text": [
      "11\n"
     ]
    }
   ],
   "source": [
    "# Multiplication and Addition\n",
    "result = (2 * 3) + 5\n",
    "print(result)"
   ]
  },
  {
   "cell_type": "code",
   "execution_count": 2,
   "metadata": {},
   "outputs": [
    {
     "name": "stdout",
     "output_type": "stream",
     "text": [
      "3.0\n"
     ]
    }
   ],
   "source": [
    "# Convert minutes to hours\n",
    "minutes = 180\n",
    "hours = minutes / 60\n",
    "print(hours)"
   ]
  },
  {
   "cell_type": "markdown",
   "metadata": {},
   "source": [
    "**Objectives:**\n",
    "1. Understand the fundamental concepts of data science.\n",
    "2. Learn to use Python for data analysis and manipulation.\n",
    "3. Explore popular data science libraries and tools.\n",
    "4. Practice basic arithmetic operations in Python."
   ]
  },
  {
   "cell_type": "markdown",
   "metadata": {},
   "source": []
  },
  {
   "cell_type": "markdown",
   "metadata": {},
   "source": [
    "**Author:**\n",
    "[Devang Patel]"
   ]
  }
 ],
 "metadata": {
  "kernelspec": {
   "display_name": "Python 3",
   "language": "python",
   "name": "python3"
  },
  "language_info": {
   "codemirror_mode": {
    "name": "ipython",
    "version": 3
   },
   "file_extension": ".py",
   "mimetype": "text/x-python",
   "name": "python",
   "nbconvert_exporter": "python",
   "pygments_lexer": "ipython3",
   "version": "3.11.7"
  }
 },
 "nbformat": 4,
 "nbformat_minor": 2
}
